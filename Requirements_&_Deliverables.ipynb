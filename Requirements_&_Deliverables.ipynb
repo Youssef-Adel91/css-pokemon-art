{
  "nbformat": 4,
  "nbformat_minor": 0,
  "metadata": {
    "colab": {
      "provenance": [],
      "collapsed_sections": [
        "Q6lPOpbilYNc",
        "RZbxp08cqZSq",
        "xJ9IeRiZdtJu",
        "VdrAkHQoA09r",
        "Sb5I0TOgBDg8",
        "X0sUS0oHBOtX",
        "CeACTTJRebbn",
        "7Zk2yY9cysYW",
        "ar523uig-SZ6",
        "NHXPlvZJ9Bc5",
        "8xWxbyIE8UnQ",
        "fDEQ1Hu68X6i",
        "PevaMLn-9Qdk",
        "MJX5C_B5L1OU",
        "AwKoafW6NEnE",
        "H-C4crogR0pE",
        "B-IqxOySdNeA",
        "srkOGJYucDT1",
        "WLAGKux8Sri9"
      ],
      "include_colab_link": true
    },
    "kernelspec": {
      "name": "python3",
      "display_name": "Python 3"
    },
    "language_info": {
      "name": "python"
    }
  },
  "cells": [
    {
      "cell_type": "markdown",
      "metadata": {
        "id": "view-in-github",
        "colab_type": "text"
      },
      "source": [
        "<a href=\"https://colab.research.google.com/github/Youssef-Adel91/css-pokemon-art/blob/main/Requirements_%26_Deliverables.ipynb\" target=\"_parent\"><img src=\"https://colab.research.google.com/assets/colab-badge.svg\" alt=\"Open In Colab\"/></a>"
      ]
    },
    {
      "cell_type": "markdown",
      "source": [
        "# Requirements & Deliverables"
      ],
      "metadata": {
        "id": "RZbxp08cqZSq"
      }
    },
    {
      "cell_type": "markdown",
      "source": [
        "- _Use-case._ Explain the interpretation of the _MovieLens_ dataset, and its value in prediction to the business. Alternatively use whatever dataset you want.\n",
        "- _Solution Design._ Design a recommendation engine using linear algebraic methods. Document using markdown and LaTeX.\n",
        "- _Algorithm Engineering._ Implement the engine using Python, numpy, and pandas, Or using C++ with whatever linear algebra framework you prefer.\n",
        "- _Scientific Evaluation._ Evaluate your engine following scientific principles.\n",
        "- _Engineering Testing._\n",
        "  - Add comments to your code.\n",
        "  - Use readable function and variable names.\n",
        "  - Respect the single-responsibility principle, i.e a single function solves a single minor problem.\n",
        "  - Test your code with varying inputs.\n",
        "  - Document the test cases."
      ],
      "metadata": {
        "id": "D_HrmdzRtA36"
      }
    },
    {
      "cell_type": "code",
      "source": [],
      "metadata": {
        "id": "PE1KYsBEscFC"
      },
      "execution_count": null,
      "outputs": []
    },
    {
      "cell_type": "markdown",
      "source": [
        "# Template"
      ],
      "metadata": {
        "id": "eXaUmsOjDmXL"
      }
    },
    {
      "cell_type": "markdown",
      "source": [
        "## Use-case"
      ],
      "metadata": {
        "id": "7izxtXO_DoKe"
      }
    },
    {
      "cell_type": "markdown",
      "source": [
        "Use-Case:\n",
        "Interpretation of MovieLens Dataset\n",
        "The MovieLens dataset is a well-known dataset in the field of recommendation systems. It contains user ratings of movies, along with additional metadata such as movie titles, genres, and user IDs. Each row in the dataset typically represents a user's rating for a specific movie. The dataset is valuable for prediction in businesses such as movie streaming platforms, where personalized recommendations can improve user satisfaction, engagement, and retention."
      ],
      "metadata": {
        "id": "VG_ZW-CnsseA"
      }
    },
    {
      "cell_type": "markdown",
      "source": [
        "## Solution Design"
      ],
      "metadata": {
        "id": "azlvLa6NDqae"
      }
    },
    {
      "cell_type": "markdown",
      "source": [
        "Solution Design:\n",
        "Recommendation Engine using Linear Algebraic Methods\n",
        "Data Representation:\n",
        "Represent user-item interactions as a matrix, where rows represent users and columns represent items (movies).\n",
        "Similarity Calculation:\n",
        " Use linear algebraic methods such as cosine similarity to calculate similarity between users or items.\n",
        "Recommendation Generation:\n",
        " For a given user, identify similar users or items based on similarity scores, and recommend items that they have rated highly but the given user hasn't seen yet."
      ],
      "metadata": {
        "id": "Nd3qaWpJs4Oy"
      }
    },
    {
      "cell_type": "markdown",
      "source": [
        "## Implementation"
      ],
      "metadata": {
        "id": "NUe7eQNGDsfv"
      }
    },
    {
      "cell_type": "code",
      "source": [
        "import numpy as np\n",
        "import pandas as pd\n",
        "\n",
        "def load_dataset(file_path):\n",
        "    \"\"\"\n",
        "    Load the MovieLens dataset from a CSV file.\n",
        "    \"\"\"\n",
        "    dataset = pd.read_csv(file_path)\n",
        "    return dataset\n",
        "\n",
        "def create_user_item_matrix(dataset):\n",
        "    \"\"\"\n",
        "    Create the user-item interaction matrix from the dataset.\n",
        "    \"\"\"\n",
        "    user_item_matrix = dataset.pivot_table(index='userId', columns='movieId', values='rating', fill_value=0)\n",
        "    return user_item_matrix\n",
        "\n",
        "def cosine_similarity(A, B):\n",
        "    \"\"\"\n",
        "    Calculate cosine similarity between two vectors.\n",
        "    \"\"\"\n",
        "    return np.dot(A, B) / (np.linalg.norm(A) * np.linalg.norm(B))\n",
        "\n",
        "def recommend_movies(user_index, user_item_matrix, num_recommendations=3):\n",
        "    \"\"\"\n",
        "    Recommend movies for a given user based on cosine similarity.\n",
        "    \"\"\"\n",
        "    user_ratings = user_item_matrix.iloc[user_index]\n",
        "    similarities = []\n",
        "    for i, other_user_ratings in user_item_matrix.iterrows():\n",
        "        if i != user_index:\n",
        "            similarity = cosine_similarity(user_ratings, other_user_ratings)\n",
        "            similarities.append((i, similarity))\n",
        "\n",
        "    similarities.sort(key=lambda x: x[1], reverse=True)\n",
        "\n",
        "    recommendations = []\n",
        "    for similar_user_index, similarity in similarities[:num_recommendations]:\n",
        "        for movie_id, rating in user_item_matrix.iloc[similar_user_index].items():\n",
        "            if user_ratings[movie_id] == 0 and rating != 0:\n",
        "                recommendations.append((movie_id, rating))\n",
        "\n",
        "    recommendations.sort(key=lambda x: x[1], reverse=True)\n",
        "    return recommendations[:num_recommendations]\n",
        "\n",
        "# Example usage\n",
        "file_path = \"movielens_dataset.csv\"\n",
        "dataset = load_dataset(file_path)\n",
        "user_item_matrix = create_user_item_matrix(dataset)\n",
        "user_index = 0\n",
        "recommended_movies = recommend_movies(user_index, user_item_matrix)\n",
        "print(\"Recommended movies for user\", user_index, \":\")\n",
        "for movie_id, rating in recommended_movies:\n",
        "    print(\"Movie ID:\", movie_id, \"with rating:\", rating)\n"
      ],
      "metadata": {
        "id": "mCHG8X2MtGvK"
      },
      "execution_count": null,
      "outputs": []
    },
    {
      "cell_type": "markdown",
      "source": [
        "## Engineering Testing"
      ],
      "metadata": {
        "id": "UCdX0-FwD4cy"
      }
    },
    {
      "cell_type": "markdown",
      "source": [
        "Engineering Testing\n",
        "Unit Tests: Test each function individually to ensure they produce the expected output for different inputs.\n",
        "Integration Tests: Test the entire recommendation engine pipeline to ensure that it produces meaningful recommendations.\n",
        "Edge Cases: Test the engine with edge cases such as users with few ratings or rare movies to ensure robustness.\n",
        "Performance Testing: Measure the performance of the engine, especially for large datasets, to ensure it scales efficiently."
      ],
      "metadata": {
        "id": "aY2Yld86tXdn"
      }
    },
    {
      "cell_type": "code",
      "source": [
        "# Test case for loading dataset\n",
        "def test_load_dataset():\n",
        "    file_path = \"movielens_dataset.csv\" # put here your file path to make the program work\n",
        "    dataset = load_dataset(file_path)\n",
        "    assert isinstance(dataset, pd.DataFrame)\n",
        "\n",
        "# Test case for creating user-item matrix\n",
        "def test_create_user_item_matrix():\n",
        "    dataset = pd.DataFrame({'userId': [1, 1, 2, 2],\n",
        "                            'movieId': [1, 2, 1, 3],\n",
        "                            'rating': [4, 5, 3, 4]})\n",
        "    user_item_matrix = create_user_item_matrix(dataset)\n",
        "    assert user_item_matrix.shape == (2, 3)\n",
        "\n",
        "# Test case for recommending movies\n",
        "def test_recommend_movies():\n",
        "    user_item_matrix = pd.DataFrame({'movie1': [4, 0],\n",
        "                                     'movie2': [0, 3],\n",
        "                                     'movie3': [0, 4]})\n",
        "    user_index = 0\n",
        "    recommended_movies = recommend_movies(user_index, user_item_matrix, num_recommendations=1)\n",
        "    assert len(recommended_movies) == 1\n"
      ],
      "metadata": {
        "id": "nzKSD9FXtZaP"
      },
      "execution_count": null,
      "outputs": []
    },
    {
      "cell_type": "markdown",
      "source": [
        "## Scientific Evaluation"
      ],
      "metadata": {
        "id": "qvAMsEa7Dy-F"
      }
    },
    {
      "cell_type": "markdown",
      "source": [
        "Scientific Evaluation:\n",
        "Evaluation of the recommendation engine can be done using various metrics such as precision, recall, and mean average precision. Additionally, A/B testing can be conducted to measure the impact of the recommendations on user engagement and retention."
      ],
      "metadata": {
        "id": "orfZwZ08tPJC"
      }
    }
  ]
}